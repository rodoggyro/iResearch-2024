{
 "cells": [
  {
   "cell_type": "code",
   "execution_count": 2,
   "metadata": {},
   "outputs": [
    {
     "name": "stderr",
     "output_type": "stream",
     "text": [
      "/home/rodoggx/Documents/iResearch-2024/venv/lib/python3.11/site-packages/tqdm/auto.py:21: TqdmWarning: IProgress not found. Please update jupyter and ipywidgets. See https://ipywidgets.readthedocs.io/en/stable/user_install.html\n",
      "  from .autonotebook import tqdm as notebook_tqdm\n"
     ]
    }
   ],
   "source": [
    "from datasets import load_dataset, Dataset\n",
    "from bs4 import BeautifulSoup\n",
    "import re"
   ]
  },
  {
   "cell_type": "markdown",
   "metadata": {},
   "source": [
    "## Uploading Noisy Dataset"
   ]
  },
  {
   "cell_type": "code",
   "execution_count": 3,
   "metadata": {},
   "outputs": [
    {
     "name": "stderr",
     "output_type": "stream",
     "text": [
      "Map: 100%|██████████| 448/448 [00:00<00:00, 1599.53 examples/s]t/s]\n",
      "Creating parquet from Arrow format: 100%|██████████| 5/5 [00:00<00:00, 13.62ba/s]\n",
      "Uploading the dataset shards: 100%|██████████| 1/1 [00:06<00:00,  6.51s/it]\n",
      "Map: 100%|██████████| 112/112 [00:00<00:00, 1645.98 examples/s]t/s]\n",
      "Creating parquet from Arrow format: 100%|██████████| 2/2 [00:00<00:00, 27.36ba/s]\n",
      "Uploading the dataset shards: 100%|██████████| 1/1 [00:01<00:00,  1.68s/it]\n"
     ]
    },
    {
     "data": {
      "text/plain": [
       "CommitInfo(commit_url='https://huggingface.co/datasets/rodoggx/ATCO2-ASR-1h/commit/8d0041ff9e13d9f166e75a819fcce95f9e45a5d3', commit_message='Upload dataset', commit_description='', oid='8d0041ff9e13d9f166e75a819fcce95f9e45a5d3', pr_url=None, pr_revision=None, pr_num=None)"
      ]
     },
     "execution_count": 3,
     "metadata": {},
     "output_type": "execute_result"
    }
   ],
   "source": [
    "dataset = load_dataset('DATA')\n",
    "\n",
    "text=[]\n",
    "\n",
    "for i in dataset['train']:\n",
    "    xml = i['audio']['path'].replace('.wav', '.xml')\n",
    "    transcript = []\n",
    "    with open(xml, 'r') as f:\n",
    "        content = f.read()\n",
    "        Bs_data = BeautifulSoup(content, \"xml\")\n",
    "        b_unique = Bs_data.find_all('text')\n",
    "        for j in b_unique:\n",
    "            transcript.append(j.text)\n",
    "\n",
    "    text.append(transcript)\n",
    "\n",
    "for j in range(len(text)):\n",
    "    for i in range(len(text[j])):\n",
    "        transcription = text[j][i]\n",
    "        transcription = re.sub(r'\\[.*?\\]', '', transcription)\n",
    "        transcription = transcription.replace('[', '').replace(']', '')\n",
    "\n",
    "        transcription = re.sub(r'\\s+', ' ', transcription)\n",
    "\n",
    "        text[j][i] = transcription\n",
    "    \n",
    "\n",
    "dataset['train'] = dataset['train'].add_column(name='text', column=text)\n",
    "\n",
    "for i in range(len(text)):\n",
    "    transcription = ''\n",
    "\n",
    "    for j in text[i]:\n",
    "        transcription += j + ' '\n",
    "\n",
    "    if transcription.endswith(' '):\n",
    "        transcription = transcription[:-1]\n",
    "\n",
    "    text[i] = transcription\n",
    "\n",
    "dataset['train'] = dataset['train'].add_column(name='text_Str', column=text)\n",
    "\n",
    "dataset = dataset['train'].train_test_split(test_size=0.2)\n",
    "\n",
    "dataset.push_to_hub('rodoggx/ATCO2-ASR-1h')"
   ]
  }
 ],
 "metadata": {
  "kernelspec": {
   "display_name": "venv",
   "language": "python",
   "name": "python3"
  },
  "language_info": {
   "codemirror_mode": {
    "name": "ipython",
    "version": 3
   },
   "file_extension": ".py",
   "mimetype": "text/x-python",
   "name": "python",
   "nbconvert_exporter": "python",
   "pygments_lexer": "ipython3",
   "version": "3.11.0rc1"
  }
 },
 "nbformat": 4,
 "nbformat_minor": 2
}
