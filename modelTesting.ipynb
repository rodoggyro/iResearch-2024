{
 "cells": [
  {
   "cell_type": "markdown",
   "metadata": {},
   "source": [
    "## Importing and loading dataset"
   ]
  },
  {
   "cell_type": "code",
   "execution_count": 1,
   "metadata": {},
   "outputs": [],
   "source": [
    "\n",
    "from datasets import load_dataset\n",
    "\n",
    "import pandas as pd\n",
    "import matplotlib.pyplot as plt\n",
    "\n",
    "from transformers import pipeline\n",
    "\n",
    "import re\n",
    "from evaluate import load"
   ]
  },
  {
   "cell_type": "code",
   "execution_count": 2,
   "metadata": {},
   "outputs": [],
   "source": [
    "df = load_dataset('rodoggx/ATCO2-ASR-1h', split='train')"
   ]
  },
  {
   "cell_type": "markdown",
   "metadata": {},
   "source": [
    "## Evaluation"
   ]
  },
  {
   "cell_type": "code",
   "execution_count": 4,
   "metadata": {},
   "outputs": [
    {
     "ename": "",
     "evalue": "",
     "output_type": "error",
     "traceback": [
      "\u001b[1;31mThe Kernel crashed while executing code in the current cell or a previous cell. \n",
      "\u001b[1;31mPlease review the code in the cell(s) to identify a possible cause of the failure. \n",
      "\u001b[1;31mClick <a href='https://aka.ms/vscodeJupyterKernelCrash'>here</a> for more info. \n",
      "\u001b[1;31mView Jupyter <a href='command:jupyter.viewOutput'>log</a> for further details."
     ]
    }
   ],
   "source": [
    "modelsList = [\n",
    "    'openai/whisper-large-v3',\n",
    "    'Jzuluaga/wav2vec2-xls-r-300m-en-atc-uwb-atcc-and-atcosim',\n",
    "    'facebook/wav2vec2-base-960h'\n",
    "]\n",
    "\n",
    "resultsData = {\n",
    "    'Model': modelsList,\n",
    "    'Average WER': [],\n",
    "    'Lowest WER': [],\n",
    "    'Highest WER': [],\n",
    "    'Values': []\n",
    "}\n",
    "\n",
    "wer= load('wer')\n",
    "\n",
    "for model in modelsList:\n",
    "    totalWER = 0\n",
    "    itterations = len(df['audio'])\n",
    "    lowWER = 1\n",
    "    highWER = 0\n",
    "    \n",
    "    temp = []\n",
    "\n",
    "    pipe = pipeline(\"automatic-speech-recognition\", model=model)\n",
    "\n",
    "    for i in range(itterations):\n",
    "        result = pipe(df['audio'][i])\n",
    "        transcription = df['text Str'][i]\n",
    "\n",
    "        wer_score = wer.compute(predictions=[result['text'].lower()], references=[transcription.lower()])\n",
    "        temp.append(wer_score)\n",
    "        print(wer_score)\n",
    "        totalWER += wer_score\n",
    "        if wer_score < lowWER:\n",
    "            lowWER = wer_score\n",
    "        if wer_score > highWER:\n",
    "            highWER = wer_score\n",
    "\n",
    "    averageWER = totalWER / itterations\n",
    "    print(f\"Average WER for {model}: {averageWER}\")\n",
    "    resultsData['Average WER'].append(averageWER)\n",
    "    resultsData['Lowest WER'].append(lowWER)\n",
    "    resultsData['Highest WER'].append(highWER)\n",
    "    resultsData['Values'].append(temp)\n",
    "\n",
    "resultsDf = pd.DataFrame.from_dict(resultsData, orient='columns')"
   ]
  },
  {
   "cell_type": "code",
   "execution_count": 9,
   "metadata": {},
   "outputs": [
    {
     "data": {
      "text/html": [
       "<div>\n",
       "<style scoped>\n",
       "    .dataframe tbody tr th:only-of-type {\n",
       "        vertical-align: middle;\n",
       "    }\n",
       "\n",
       "    .dataframe tbody tr th {\n",
       "        vertical-align: top;\n",
       "    }\n",
       "\n",
       "    .dataframe thead th {\n",
       "        text-align: right;\n",
       "    }\n",
       "</style>\n",
       "<table border=\"1\" class=\"dataframe\">\n",
       "  <thead>\n",
       "    <tr style=\"text-align: right;\">\n",
       "      <th></th>\n",
       "      <th>Model</th>\n",
       "      <th>Average WER</th>\n",
       "      <th>Lowest WER</th>\n",
       "      <th>Highest WER</th>\n",
       "      <th>Values</th>\n",
       "    </tr>\n",
       "  </thead>\n",
       "  <tbody>\n",
       "    <tr>\n",
       "      <th>0</th>\n",
       "      <td>openai/whisper-large-v3</td>\n",
       "      <td>0.747770</td>\n",
       "      <td>0.090909</td>\n",
       "      <td>12.827586</td>\n",
       "      <td>[1.0, 0.7948717948717948, 0.9473684210526315, ...</td>\n",
       "    </tr>\n",
       "    <tr>\n",
       "      <th>1</th>\n",
       "      <td>Jzuluaga/wav2vec2-xls-r-300m-en-atc-uwb-atcc-a...</td>\n",
       "      <td>0.501100</td>\n",
       "      <td>0.000000</td>\n",
       "      <td>1.818182</td>\n",
       "      <td>[0.2, 0.5641025641025641, 0.3157894736842105, ...</td>\n",
       "    </tr>\n",
       "    <tr>\n",
       "      <th>2</th>\n",
       "      <td>facebook/wav2vec2-base-960h</td>\n",
       "      <td>0.932565</td>\n",
       "      <td>0.250000</td>\n",
       "      <td>1.550000</td>\n",
       "      <td>[0.92, 0.9487179487179487, 1.0, 0.952380952380...</td>\n",
       "    </tr>\n",
       "  </tbody>\n",
       "</table>\n",
       "</div>"
      ],
      "text/plain": [
       "                                               Model  Average WER  Lowest WER  \\\n",
       "0                            openai/whisper-large-v3     0.747770    0.090909   \n",
       "1  Jzuluaga/wav2vec2-xls-r-300m-en-atc-uwb-atcc-a...     0.501100    0.000000   \n",
       "2                        facebook/wav2vec2-base-960h     0.932565    0.250000   \n",
       "\n",
       "   Highest WER                                             Values  \n",
       "0    12.827586  [1.0, 0.7948717948717948, 0.9473684210526315, ...  \n",
       "1     1.818182  [0.2, 0.5641025641025641, 0.3157894736842105, ...  \n",
       "2     1.550000  [0.92, 0.9487179487179487, 1.0, 0.952380952380...  "
      ]
     },
     "execution_count": 9,
     "metadata": {},
     "output_type": "execute_result"
    }
   ],
   "source": [
    "resultsDf.to_csv('results.csv')\n",
    "resultsDf"
   ]
  },
  {
   "cell_type": "markdown",
   "metadata": {},
   "source": [
    "## Plotting"
   ]
  },
  {
   "cell_type": "code",
   "execution_count": 7,
   "metadata": {},
   "outputs": [
    {
     "data": {
      "image/png": "[encoded data removed]",
      "text/plain": [
       "<Figure size 640x480 with 1 Axes>"
      ]
     },
     "metadata": {},
     "output_type": "display_data"
    }
   ],
   "source": [
    "modelNames = [\n",
    "    'Whisper',\n",
    "    'Fine Tuned Wav2Vec2',\n",
    "    'Wav2Vec2'\n",
    "\n",
    "]\n",
    "\n",
    "plt.errorbar(\n",
    "    modelNames,\n",
    "    resultsDf['Average WER'],\n",
    "    yerr=[resultsDf['Lowest WER'], resultsDf['Highest WER']],\n",
    "    fmt='o'\n",
    ")\n",
    "\n",
    "plt.xlabel('Model')\n",
    "plt.ylabel('Average WER')\n",
    "\n",
    "plt.title('Average WER for 50 itterations')\n",
    "\n",
    "plt.show()"
   ]
  }
 ],
 "metadata": {
  "kernelspec": {
   "display_name": "venv",
   "language": "python",
   "name": "python3"
  },
  "language_info": {
   "codemirror_mode": {
    "name": "ipython",
    "version": 3
   },
   "file_extension": ".py",
   "mimetype": "text/x-python",
   "name": "python",
   "nbconvert_exporter": "python",
   "pygments_lexer": "ipython3",
   "version": "3.11.0"
  }
 },
 "nbformat": 4,
 "nbformat_minor": 2
}
